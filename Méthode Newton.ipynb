{
 "cells": [
  {
   "cell_type": "markdown",
   "metadata": {},
   "source": [
    "### <u>Problématique:</u><i> Comment approximer des solutions de problèmes mathématiques non résolvable par des méthodes non algébrique ?</i> ###"
   ]
  },
  {
   "cell_type": "markdown",
   "metadata": {},
   "source": [
    "Methode Newton: approximation de la solutions d'une équation avec une précision meilleur que la méthode des secantes et la méthode par dichotomie"
   ]
  },
  {
   "cell_type": "code",
   "execution_count": 1,
   "metadata": {},
   "outputs": [
    {
     "data": {
      "text/plain": [
       "(8.90989010989011, 1)"
      ]
     },
     "execution_count": 1,
     "metadata": {},
     "output_type": "execute_result"
    }
   ],
   "source": [
    "#1)Calcul approximative de f(x)=0\n",
    "import math\n",
    "def f(x):\n",
    "    return x**3 - 2*x**2 + 2\n",
    "def g(x):\n",
    "    return 3*x**2 - 4*x\n",
    "def méthode_newton(x_n,e):\n",
    "    n = 0\n",
    "    dif = 2*e\n",
    "    while dif > e :\n",
    "        y = x_n-f(x_n)/g(x_n)\n",
    "        n = n+1\n",
    "        return y,n\n",
    "méthode_newton(13,220)"
   ]
  },
  {
   "cell_type": "code",
   "execution_count": 2,
   "metadata": {},
   "outputs": [
    {
     "data": {
      "image/png": "[encoded data removed]",
      "text/plain": [
       "<Figure size 640x480 with 1 Axes>"
      ]
     },
     "metadata": {},
     "output_type": "display_data"
    }
   ],
   "source": [
    "#2)Tracer la courbre en python\n",
    "import numpy as np\n",
    "import matplotlib.pyplot as plt\n",
    "   \n",
    "def g(f,x,x0):\n",
    "    tangent = g * (x - x0) + f(x0)\n",
    "    return tangent\n",
    "    \n",
    "    \n",
    "def f(x):\n",
    "    return x**3 - 2*x**2 + 2\n",
    "\n",
    "def g(x):\n",
    "    return 3*x**2 - 4*x\n",
    "\n",
    "racines = np.random.uniform(-1, 3,30)\n",
    "\n",
    "for a in racines:\n",
    "    tangente_x = np.linspace(a-0.2, a+0.2)\n",
    "    tangente_y = g(a) * (tangente_x - a) + f(a)\n",
    "    plt.plot(tangente_x, tangente_y)\n",
    "\n",
    "\n",
    "plt.axvline(0, color='red',linewidth=1.5)\n",
    "#plt.axvline(1, color='red',linewidth=1.5)\n",
    "#plt.axvline(2, color='red',linewidth=1.5)\n",
    "#plt.axvline(3, color='red',linewidth=1.5)\n",
    "plt.axhline(0, color='black', linewidth=1.5)\n",
    "plt.xlabel('x')\n",
    "plt.ylabel('f(x)')\n",
    "plt.title(\"Méthode Newton en python\")\n",
    "plt.grid(False)\n",
    "plt.show()  "
   ]
  },
  {
   "cell_type": "code",
   "execution_count": 4,
   "metadata": {},
   "outputs": [
    {
     "name": "stdout",
     "output_type": "stream",
     "text": [
      "Pour h =  2.613868675641459\n",
      "l'intégrale est  3.574554201663393\n"
     ]
    }
   ],
   "source": [
    "#3)Calcule: ∫|f-g|=φ(h)\n",
    "from scipy.integrate import quad\n",
    "import numpy as np\n",
    "import random\n",
    "\n",
    "def f(x):\n",
    "    return x**3 - 2*x**2 + 2\n",
    "\n",
    "def g(x):\n",
    "    return 3*x**2 - 4*x\n",
    "\n",
    "def integrale(x):\n",
    "    return abs(f(x) - g(x))\n",
    "\n",
    "H = np.random.uniform(0, 3)\n",
    "\n",
    "resultat_intégrale, erreur = quad(integrale, 0, H)\n",
    "\n",
    "print(\"Pour h = \",H)\n",
    "print(\"l'intégrale est \",resultat_intégrale)"
   ]
  },
  {
   "cell_type": "code",
   "execution_count": 3,
   "metadata": {},
   "outputs": [
    {
     "data": {
      "text/plain": [
       "[1.1604938271604937]"
      ]
     },
     "execution_count": 3,
     "metadata": {},
     "output_type": "execute_result"
    }
   ],
   "source": [
    "#4)Calculer la somme des intégrales de cette courbe\n",
    "import math\n",
    "def f (x) :\n",
    "    return x**3 - 2*x**2 + 2\n",
    "def methode_trapèze(a,b,n) :\n",
    "    p= (b-a)/n\n",
    "    s=0\n",
    "    for i in range(n):\n",
    "        s = s + (b-a)*(f(i)+f(i+p))*p/2\n",
    "        a = a + p\n",
    "    return [s]\n",
    "\n",
    "methode_trapèze(0,1,3)"
   ]
  },
  {
   "cell_type": "code",
   "execution_count": 1,
   "metadata": {},
   "outputs": [
    {
     "data": {
      "text/plain": [
       "[5.794755000000006]"
      ]
     },
     "execution_count": 1,
     "metadata": {},
     "output_type": "execute_result"
    }
   ],
   "source": [
    "import math\n",
    "def f (x) :\n",
    "    return x**3 - 2*x**2 + 2\n",
    "def methode_trapèze(a,b,n) :\n",
    "    p = (b-a)/n\n",
    "    s = 0\n",
    "    for i in range (n):\n",
    "        s = (b-a)*(f(i)+f(i+p))*p/2\n",
    "        a = a + p\n",
    "    return [s]\n",
    "\n",
    "methode_trapèze(0,1,10)"
   ]
  },
  {
   "cell_type": "code",
   "execution_count": null,
   "metadata": {},
   "outputs": [],
   "source": []
  },
  {
   "cell_type": "code",
   "execution_count": 2,
   "metadata": {},
   "outputs": [
    {
     "data": {
      "text/plain": [
       "1.6325"
      ]
     },
     "execution_count": 2,
     "metadata": {},
     "output_type": "execute_result"
    }
   ],
   "source": [
    "def f (x):\n",
    "    return x**3 - 2*x**2 + 2\n",
    "def méthode_rectangle(a,b,n) :\n",
    "    p=(b-a) /n\n",
    "    s=0\n",
    "    for i in range(n):\n",
    "        s=s+p*f(a)\n",
    "        a+=p\n",
    "    return s\n",
    "méthode_rectangle(0,1,10)"
   ]
  },
  {
   "cell_type": "code",
   "execution_count": 22,
   "metadata": {},
   "outputs": [],
   "source": [
    "def f(x):\n",
    "    return x**3 - 2*x**2 + 2\n",
    "\n",
    "def g(x):\n",
    "    return 3*x**2 - 4*x"
   ]
  },
  {
   "cell_type": "code",
   "execution_count": 12,
   "metadata": {},
   "outputs": [
    {
     "data": {
      "image/png": "[encoded data removed]",
      "text/plain": [
       "<Figure size 640x480 with 1 Axes>"
      ]
     },
     "metadata": {},
     "output_type": "display_data"
    }
   ],
   "source": [
    "import numpy as np\n",
    "import matplotlib.pyplot as plt\n",
    "   \n",
    "def g(f,x,x0):\n",
    "    tangent = g * (x - x0) + f(x0)\n",
    "    return tangent\n",
    "    \n",
    "    \n",
    "def f(x):\n",
    "    return x**3 - 2*x**2 + 2\n",
    "\n",
    "def g(x):\n",
    "    return 3*x**2 - 4*x\n",
    "\n",
    "racines = np.random.uniform(-1, 3,30)\n",
    "\n",
    "for a in racines:\n",
    "    tangente_x = np.linspace(a-0.2, a+0.2)\n",
    "    tangente_y = g(a) * (tangente_x - a) + f(a) \n",
    "    plt.plot(tangente_x, tangente_y)\n",
    "\n",
    "\n",
    "plt.axvline(0, color='red',linewidth=1.5)\n",
    "#plt.axvline(1, color='red',linewidth=1.5)\n",
    "#plt.axvline(2, color='red',linewidth=1.5)\n",
    "#plt.axvline(3, color='red',linewidth=1.5)\n",
    "plt.axhline(0, color='black', linewidth=1.5)\n",
    "plt.xlabel('x')\n",
    "plt.ylabel('f(x)')\n",
    "plt.title(\"Méthode Newton en python\")\n",
    "plt.grid(True)\n",
    "plt.show()  "
   ]
  },
  {
   "cell_type": "code",
   "execution_count": null,
   "metadata": {},
   "outputs": [],
   "source": []
  }
 ],
 "metadata": {
  "kernelspec": {
   "display_name": "Python 3",
   "language": "python",
   "name": "python3"
  },
  "language_info": {
   "codemirror_mode": {
    "name": "ipython",
    "version": 3
   },
   "file_extension": ".py",
   "mimetype": "text/x-python",
   "name": "python",
   "nbconvert_exporter": "python",
   "pygments_lexer": "ipython3",
   "version": "3.10.11"
  },
  "orig_nbformat": 4
 },
 "nbformat": 4,
 "nbformat_minor": 2
}
