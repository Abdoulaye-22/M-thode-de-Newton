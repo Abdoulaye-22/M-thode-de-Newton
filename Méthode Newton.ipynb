{
 "cells": [
  {
   "cell_type": "markdown",
   "metadata": {},
   "source": [
    "### Méthode de Newton"
   ]
  },
  {
   "cell_type": "markdown",
   "metadata": {},
   "source": [
    "```Methode Newton: approximation de la solutions d'une équation avec une précision meilleur que la méthode des secantes et la méthode par dichotomie```"
   ]
  },
  {
   "cell_type": "code",
   "execution_count": 24,
   "metadata": {},
   "outputs": [
    {
     "data": {
      "text/plain": [
       "(2.0, 1)"
      ]
     },
     "execution_count": 24,
     "metadata": {},
     "output_type": "execute_result"
    }
   ],
   "source": [
    "#1)Calcul approximative de f(x) = 0 \n",
    "import math\n",
    "def f(x):\n",
    "    return x**3 - 2*x**2 + 2\n",
    "def g(x):\n",
    "    return 3*x**2 - 4*x\n",
    "def méthode_newton(x_n,e):\n",
    "    n = 0\n",
    "    dif = 2*e\n",
    "    while dif > e :\n",
    "        y = x_n-f(x_n)/g(x_n)\n",
    "        n = n+1\n",
    "        return y,n\n",
    "méthode_newton(1,0.001)"
   ]
  },
  {
   "cell_type": "code",
   "execution_count": 3,
   "metadata": {},
   "outputs": [
    {
     "data": {
      "image/png": "[encoded data removed]",
      "text/plain": [
       "<Figure size 640x480 with 1 Axes>"
      ]
     },
     "metadata": {},
     "output_type": "display_data"
    }
   ],
   "source": [
    "#2)Tracer la courbre en python\n",
    "import numpy as np\n",
    "import matplotlib.pyplot as plt\n",
    "   \n",
    "def g(f,x,x0):\n",
    "    tangent = g * (x - x0) + f(x0)\n",
    "    return tangent\n",
    "    \n",
    "    \n",
    "def f(x):\n",
    "    return x**3 - 2*x**2 + 2\n",
    "\n",
    "def g(x):\n",
    "    return 3*x**2 - 4*x\n",
    "\n",
    "racines = np.random.uniform(-1, 3,30)\n",
    "\n",
    "for a in racines:\n",
    "    tangente_x = np.linspace(a-0.2, a+0.2)\n",
    "    tangente_y = g(a) * (tangente_x - a) + f(a)\n",
    "    plt.plot(tangente_x, tangente_y)\n",
    "\n",
    "\n",
    "plt.axvline(0, color='red',linewidth=1.5)\n",
    "#plt.axvline(1, color='red',linewidth=1.5)\n",
    "#plt.axvline(2, color='red',linewidth=1.5)\n",
    "#plt.axvline(3, color='red',linewidth=1.5)\n",
    "plt.axhline(0, color='black', linewidth=1.5)\n",
    "plt.xlabel('x')\n",
    "plt.ylabel('f(x)')\n",
    "plt.title(\"Méthode Newton en python\")\n",
    "plt.grid(True)\n",
    "plt.show()  "
   ]
  },
  {
   "cell_type": "markdown",
   "metadata": {},
   "source": [
    "### Calcul d'intégrale"
   ]
  },
  {
   "cell_type": "code",
   "execution_count": 4,
   "metadata": {},
   "outputs": [
    {
     "name": "stdout",
     "output_type": "stream",
     "text": [
      "Pour h =  2.4184647272594058\n",
      "l'intégrale est  4.7733143627570245\n"
     ]
    }
   ],
   "source": [
    "#3)Calcule: ∫|f-g|=φ(h)\n",
    "from scipy.integrate import quad\n",
    "import numpy as np\n",
    "import random\n",
    "\n",
    "def f(x):\n",
    "    return x**3 - 2*x**2 + 2\n",
    "\n",
    "def g(x):\n",
    "    return 3*x**2 - 4*x\n",
    "\n",
    "def integrale(x):\n",
    "    return abs(f(x) - g(x))\n",
    "\n",
    "H = np.random.uniform(0, 3)\n",
    "\n",
    "resultat_intégrale, erreur = quad(integrale, 0, H)\n",
    "\n",
    "print(\"Pour h = \",H)\n",
    "print(\"l'intégrale est \",resultat_intégrale)"
   ]
  },
  {
   "cell_type": "code",
   "execution_count": 3,
   "metadata": {},
   "outputs": [
    {
     "data": {
      "text/plain": [
       "[1.1604938271604937]"
      ]
     },
     "execution_count": 3,
     "metadata": {},
     "output_type": "execute_result"
    }
   ],
   "source": [
    "import math\n",
    "def f (x) :\n",
    "    return x**3 - 2*x**2 + 2\n",
    "def methode_trapèze(a,b,n) :\n",
    "    p= (b-a)/n\n",
    "    s=0\n",
    "    for i in range(n):\n",
    "        s = s + (b-a)*(f(i)+f(i+p))*p/2\n",
    "        a = a + p\n",
    "    return [s]\n",
    "\n",
    "methode_trapèze(0,1,3)"
   ]
  },
  {
   "cell_type": "code",
   "execution_count": 2,
   "metadata": {},
   "outputs": [
    {
     "data": {
      "text/plain": [
       "[0.32304526748971196]"
      ]
     },
     "execution_count": 2,
     "metadata": {},
     "output_type": "execute_result"
    }
   ],
   "source": [
    "#4)Calculer la somme des intégrales de cette courbe\n",
    "import math\n",
    "def f (x) :\n",
    "    return x**3 - 2*x**2 + 2\n",
    "def methode_trapèze(a,b,n) :\n",
    "    p = (b-a)/n\n",
    "    s = 0\n",
    "    for i in range(n):\n",
    "        s = (b-a)*(f(i)+f(i+p))*p/2\n",
    "        a = a + p\n",
    "    return [s]\n",
    "\n",
    "methode_trapèze(0,1,3)"
   ]
  },
  {
   "cell_type": "code",
   "execution_count": null,
   "metadata": {},
   "outputs": [],
   "source": []
  },
  {
   "cell_type": "code",
   "execution_count": 2,
   "metadata": {},
   "outputs": [
    {
     "data": {
      "text/plain": [
       "1.6325"
      ]
     },
     "execution_count": 2,
     "metadata": {},
     "output_type": "execute_result"
    }
   ],
   "source": [
    "def f (x):\n",
    "    return x**3 - 2*x**2 + 2\n",
    "def méthode_rectangle(a,b,n) :\n",
    "    p=(b-a) /n\n",
    "    s=0\n",
    "    for i in range(n):\n",
    "        s=s+p*f(a)\n",
    "        a+=p\n",
    "    return s\n",
    "méthode_rectangle(0,1,10)"
   ]
  },
  {
   "cell_type": "markdown",
   "metadata": {},
   "source": [
    "### Méthode par Dichotomie"
   ]
  },
  {
   "cell_type": "markdown",
   "metadata": {},
   "source": [
    "```\n",
    "Fonction dichotomie(valeur de depart 'a', valeur de fin 'b' , tolérance 'e')\n",
    "Tant que (b - a) > e\n",
    "    m ← (a + b) / 2\n",
    "    Si (f(a)*f(m) ≤ 0) alors\n",
    "       b ← m\n",
    "    sinon\n",
    "       a ← m\n",
    "    Fin Si\n",
    "Fin Tant que\n",
    "```"
   ]
  },
  {
   "cell_type": "code",
   "execution_count": 19,
   "metadata": {},
   "outputs": [
    {
     "data": {
      "text/plain": [
       "-0.83935546875"
      ]
     },
     "execution_count": 19,
     "metadata": {},
     "output_type": "execute_result"
    }
   ],
   "source": [
    "def f(x):\n",
    "    return x**3 - 2*x**2 + 2\n",
    "def dichotomie(a, b, e):\n",
    "    while (b - a) > e:\n",
    "        m = (a + b) / 2\n",
    "        if f(a) * f(m) <= 0:\n",
    "            b = m\n",
    "        else:\n",
    "            a = m\n",
    "    return (a + b) / 2\n",
    "\n",
    "dichotomie(-2,2,0.001)"
   ]
  },
  {
   "cell_type": "markdown",
   "metadata": {},
   "source": [
    "### Méthode des sécantes\n"
   ]
  },
  {
   "cell_type": "code",
   "execution_count": 18,
   "metadata": {},
   "outputs": [
    {
     "data": {
      "text/plain": [
       "1.5"
      ]
     },
     "execution_count": 18,
     "metadata": {},
     "output_type": "execute_result"
    }
   ],
   "source": [
    "def f(x):\n",
    "    return x**3 -2*x**2 + 2\n",
    "def secante(a,b,e):\n",
    "    while True:\n",
    "        x = b - (b - a) * f(b) / (f(b) - f(a))\n",
    "        if abs(x - b) <= 10**(-e):\n",
    "            return x\n",
    "        else:\n",
    "            a, b = b, x\n",
    "secante(-2,2,0.001)"
   ]
  },
  {
   "cell_type": "code",
   "execution_count": null,
   "metadata": {},
   "outputs": [],
   "source": []
  },
  {
   "cell_type": "markdown",
   "metadata": {},
   "source": [
    "### Les fonctions utilisées dans les programmes"
   ]
  },
  {
   "cell_type": "code",
   "execution_count": 22,
   "metadata": {},
   "outputs": [],
   "source": [
    "def f(x):\n",
    "    return x**3 - 2*x**2 + 2\n",
    "\n",
    "def g(x):\n",
    "    return 3*x**2 - 4*x"
   ]
  },
  {
   "cell_type": "code",
   "execution_count": 1,
   "metadata": {},
   "outputs": [
    {
     "data": {
      "text/plain": [
       "(-0.6000000000000001, 1)"
      ]
     },
     "execution_count": 1,
     "metadata": {},
     "output_type": "execute_result"
    }
   ],
   "source": [
    "#1)Calcul approximative de f(x) = 0 \n",
    "import math\n",
    "def f(x):\n",
    "    return -5*x**2+20*x+1\n",
    "def g(x):\n",
    "    return -10*x+20\n",
    "def méthode_newton(x_n,e):\n",
    "    n = 0\n",
    "    dif = 2*e\n",
    "    while dif > e :\n",
    "        y = x_n-f(x_n)/g(x_n)\n",
    "        n = n+1\n",
    "        return y,n\n",
    "méthode_newton(1,0.001)"
   ]
  },
  {
   "cell_type": "code",
   "execution_count": 2,
   "metadata": {},
   "outputs": [
    {
     "data": {
      "image/png": "[encoded data removed]",
      "text/plain": [
       "<Figure size 640x480 with 1 Axes>"
      ]
     },
     "metadata": {},
     "output_type": "display_data"
    }
   ],
   "source": [
    "#2)Tracer la courbre en python\n",
    "import numpy as np\n",
    "import matplotlib.pyplot as plt\n",
    "   \n",
    "def g(f,x,x0):\n",
    "    tangent = g * (x - x0) + f(x0)\n",
    "    return tangent\n",
    "    \n",
    "    \n",
    "def f(x):\n",
    "    return -5*x**2+20*x+1\n",
    "\n",
    "def g(x):\n",
    "    return -10*x+20\n",
    "\n",
    "racines = np.random.uniform(-1, 3,30)\n",
    "\n",
    "for a in racines:\n",
    "    tangente_x = np.linspace(a-0.2, a+0.2)\n",
    "    tangente_y = g(a) * (tangente_x - a) + f(a)\n",
    "    plt.plot(tangente_x, tangente_y)\n",
    "\n",
    "\n",
    "plt.axvline(0, color='red',linewidth=1.5)\n",
    "#plt.axvline(1, color='red',linewidth=1.5)\n",
    "#plt.axvline(2, color='red',linewidth=1.5)\n",
    "#plt.axvline(3, color='red',linewidth=1.5)\n",
    "plt.axhline(0, color='black', linewidth=1.5)\n",
    "plt.xlabel('x')\n",
    "plt.ylabel('f(x)')\n",
    "plt.title(\"Méthode Newton en python\")\n",
    "plt.grid(True)\n",
    "plt.show()  "
   ]
  },
  {
   "cell_type": "code",
   "execution_count": null,
   "metadata": {},
   "outputs": [],
   "source": []
  }
 ],
 "metadata": {
  "kernelspec": {
   "display_name": "Python 3",
   "language": "python",
   "name": "python3"
  },
  "language_info": {
   "codemirror_mode": {
    "name": "ipython",
    "version": 3
   },
   "file_extension": ".py",
   "mimetype": "text/x-python",
   "name": "python",
   "nbconvert_exporter": "python",
   "pygments_lexer": "ipython3",
   "version": "3.10.11"
  },
  "orig_nbformat": 4
 },
 "nbformat": 4,
 "nbformat_minor": 2
}
